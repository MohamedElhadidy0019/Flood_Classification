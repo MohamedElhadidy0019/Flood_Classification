{
  "nbformat": 4,
  "nbformat_minor": 0,
  "metadata": {
    "colab": {
      "provenance": [],
      "gpuType": "T4"
    },
    "kernelspec": {
      "name": "python3",
      "display_name": "Python 3"
    },
    "language_info": {
      "name": "python"
    },
    "accelerator": "GPU",
    "gpuClass": "standard"
  },
  "cells": [
    {
      "cell_type": "code",
      "execution_count": null,
      "metadata": {
        "colab": {
          "base_uri": "https://localhost:8080/"
        },
        "id": "7RX8vl7DmhSx",
        "outputId": "18ebe317-464d-4e9c-e1c4-4387d94647bb"
      },
      "outputs": [
        {
          "output_type": "stream",
          "name": "stdout",
          "text": [
            "Drive already mounted at /content/drive; to attempt to forcibly remount, call drive.mount(\"/content/drive\", force_remount=True).\n",
            ".config\n",
            "drive\n",
            "sample_data\n"
          ]
        }
      ],
      "source": [
        "import os\n",
        "from google.colab import drive\n",
        "\n",
        "# Mount your Google Drive\n",
        "drive.mount('/content/drive')\n",
        "\n",
        "# Get the current working directory\n",
        "current_dir = os.getcwd()\n",
        "\n",
        "# Create a list of all the folders in the current working directory\n",
        "folders = os.listdir(current_dir)\n",
        "\n",
        "# Loop through the list of folders\n",
        "for folder in folders:\n",
        "  # Print the name of the folder\n",
        "  print(folder)"
      ]
    },
    {
      "cell_type": "code",
      "source": [
        "dataset_path = '/content/drive/MyDrive/dataset'"
      ],
      "metadata": {
        "id": "Gevvhz0JnLeq"
      },
      "execution_count": null,
      "outputs": []
    },
    {
      "cell_type": "code",
      "source": [
        "import torch\n",
        "import torch.nn as nn\n",
        "import torch.optim as optim\n",
        "from torchvision import models, transforms\n",
        "from torch.utils.data import DataLoader\n",
        "import os\n",
        "import torch\n",
        "from torchvision import datasets, transforms\n",
        "import torchvision\n",
        "import torchvision.transforms as transforms\n",
        "import torch.utils.data as data"
      ],
      "metadata": {
        "id": "F1tNxl2unYiz"
      },
      "execution_count": null,
      "outputs": []
    },
    {
      "cell_type": "code",
      "source": [
        "import torch\n",
        "\n",
        "if torch.cuda.is_available():\n",
        "  print(\"CUDA is available\")\n",
        "else:\n",
        "  print(\"CUDA is not available\")\n",
        "\n",
        "print(torch.cuda.device_count())\n",
        "device = None\n",
        "for i in range(torch.cuda.device_count()):\n",
        "  print(torch.cuda.get_device_name(i))\n",
        "  device=torch.cuda.get_device_name(i)\n",
        "\n"
      ],
      "metadata": {
        "colab": {
          "base_uri": "https://localhost:8080/"
        },
        "id": "NVIw9ZjAnfm7",
        "outputId": "2e09470f-23ed-4eb0-b5fc-2c505181c703"
      },
      "execution_count": null,
      "outputs": [
        {
          "output_type": "stream",
          "name": "stdout",
          "text": [
            "CUDA is available\n",
            "1\n",
            "Tesla T4\n"
          ]
        }
      ]
    },
    {
      "cell_type": "code",
      "source": [
        "data_transforms = transforms.Compose([\n",
        "    transforms.Resize((256,256)),\n",
        "    transforms.RandomHorizontalFlip(),\n",
        "    transforms.ToTensor(),\n",
        "    transforms.Normalize((0.485, 0.456, 0.406), (0.229, 0.224, 0.225))\n",
        "])\n",
        "\n",
        "path = dataset_path\n",
        "dataset = torchvision.datasets.ImageFolder(root=path, transform=data_transforms)\n",
        "\n",
        "# Split the dataset into train and test\n",
        "train_size = int(0.9 * len(dataset) )\n",
        "test_size = len(dataset) - train_size\n",
        "train_dataset, test_dataset = data.random_split(dataset, [train_size, test_size],generator=torch.Generator().manual_seed(42))\n",
        "\n",
        "# Define the dataloaders\n",
        "train_loader = data.DataLoader(train_dataset, batch_size=32, shuffle=True)\n",
        "test_loader = data.DataLoader(test_dataset, batch_size=32, shuffle=False)\n",
        "\n",
        "trainloader=train_loader\n",
        "testloader=test_loader\n",
        "\n",
        "# Create a training and validation set\n",
        "train_loader =train_loader\n",
        "val_loader =test_loader\n"
      ],
      "metadata": {
        "id": "J4GV3PYonnQ9"
      },
      "execution_count": null,
      "outputs": []
    },
    {
      "cell_type": "code",
      "source": [
        "model_path = '/content/drive/MyDrive/model'\n",
        "# Define a DenseNet model\n",
        "model = torchvision.models.densenet121(pretrained=True)\n",
        "# model.load_state_dict(torch.load(model_path+'/densenet121.pth'))\n",
        "\n",
        "model.cuda()\n",
        "# Train the model\n",
        "criterion = torch.nn.CrossEntropyLoss()\n",
        "optimizer = torch.optim.SGD(model.parameters(), lr=0.001, momentum=0.9, weight_decay=0.001)"
      ],
      "metadata": {
        "colab": {
          "base_uri": "https://localhost:8080/"
        },
        "id": "6jhdo2X2o3y7",
        "outputId": "022241a4-f6df-4fdf-c7a0-e4ace24e316e"
      },
      "execution_count": null,
      "outputs": [
        {
          "output_type": "stream",
          "name": "stderr",
          "text": [
            "/usr/local/lib/python3.10/dist-packages/torchvision/models/_utils.py:208: UserWarning: The parameter 'pretrained' is deprecated since 0.13 and may be removed in the future, please use 'weights' instead.\n",
            "  warnings.warn(\n",
            "/usr/local/lib/python3.10/dist-packages/torchvision/models/_utils.py:223: UserWarning: Arguments other than a weight enum or `None` for 'weights' are deprecated since 0.13 and may be removed in the future. The current behavior is equivalent to passing `weights=DenseNet121_Weights.IMAGENET1K_V1`. You can also use `weights=DenseNet121_Weights.DEFAULT` to get the most up-to-date weights.\n",
            "  warnings.warn(msg)\n"
          ]
        }
      ]
    },
    {
      "cell_type": "code",
      "source": [
        "\n",
        "\n",
        "\n",
        "\n",
        "\n",
        "\n",
        "for epoch in range(10):\n",
        "  for i, (images, labels) in enumerate(train_loader):\n",
        "    # Forward pass\n",
        "    images = images.cuda()\n",
        "    labels = labels.cuda()\n",
        "    outputs = model(images)\n",
        "\n",
        "    # Calculate loss\n",
        "    loss = criterion(outputs, labels)\n",
        "\n",
        "    # Backpropagate\n",
        "    optimizer.zero_grad()\n",
        "    loss.backward()\n",
        "\n",
        "    # Update parameters\n",
        "    optimizer.step()\n",
        "\n",
        "    # Print loss\n",
        "    if i % 100 == 0:\n",
        "      print(loss.item())\n",
        "\n"
      ],
      "metadata": {
        "colab": {
          "base_uri": "https://localhost:8080/"
        },
        "id": "XVElcWFgoKm2",
        "outputId": "e733e7bb-ec2d-4c7e-cc04-0608407c2e49"
      },
      "execution_count": null,
      "outputs": [
        {
          "output_type": "stream",
          "name": "stdout",
          "text": [
            "0.005991598125547171\n",
            "0.003787188557907939\n",
            "0.0007552416063845158\n",
            "0.005027595907449722\n",
            "0.0021906872279942036\n",
            "0.003100298810750246\n",
            "0.0008606964256614447\n",
            "0.0007381921168416739\n",
            "0.0008921191329136491\n",
            "0.0018978820880874991\n"
          ]
        }
      ]
    },
    {
      "cell_type": "code",
      "source": [
        "# Evaluate the model\n",
        "correct = 0\n",
        "total = 0\n",
        "\n",
        "for images, labels in val_loader:\n",
        "    with torch.no_grad():\n",
        "        images = images.cuda()\n",
        "        labels = labels.cuda()\n",
        "        outputs = model(images)\n",
        "        \n",
        "        predicted = outputs.argmax(dim=1)\n",
        "        correct += (predicted == labels).sum().item()\n",
        "        total += len(labels)\n",
        "\n",
        "print('Accuracy: {}'.format(correct / total))"
      ],
      "metadata": {
        "colab": {
          "base_uri": "https://localhost:8080/"
        },
        "id": "vc_RKzCGo2wK",
        "outputId": "78b2a219-0cd5-4de5-a9ec-bb199896be5c"
      },
      "execution_count": null,
      "outputs": [
        {
          "output_type": "stream",
          "name": "stdout",
          "text": [
            "Accuracy: 0.978494623655914\n"
          ]
        }
      ]
    },
    {
      "cell_type": "code",
      "source": [
        "model_path = '/content/drive/MyDrive/model'\n",
        "\n",
        "torch.save(model.state_dict(), model_path+'/densenet121.pth')"
      ],
      "metadata": {
        "id": "205QKIiDulaR"
      },
      "execution_count": null,
      "outputs": []
    },
    {
      "cell_type": "code",
      "source": [
        "! cd /content/drive/MyDrive/model && ls"
      ],
      "metadata": {
        "colab": {
          "base_uri": "https://localhost:8080/"
        },
        "id": "tqIHYw092HQH",
        "outputId": "622d4a45-b393-4be3-c3f4-d77eba7fb52d"
      },
      "execution_count": null,
      "outputs": [
        {
          "output_type": "stream",
          "name": "stdout",
          "text": [
            "densenet121.pth\n"
          ]
        }
      ]
    },
    {
      "cell_type": "code",
      "source": [],
      "metadata": {
        "id": "L8XzWUjX2RG4"
      },
      "execution_count": null,
      "outputs": []
    }
  ]
}