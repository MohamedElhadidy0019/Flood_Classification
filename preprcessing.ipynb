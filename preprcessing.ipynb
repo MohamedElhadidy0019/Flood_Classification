{
 "cells": [
  {
   "attachments": {},
   "cell_type": "markdown",
   "metadata": {},
   "source": [
    "# preprocess images for flood detection task"
   ]
  },
  {
   "cell_type": "code",
   "execution_count": null,
   "metadata": {},
   "outputs": [],
   "source": [
    "import os\n",
    "import tqdm\n",
    "from skimage import io\n",
    "import numpy as np\n",
    "import shutil\n",
    "from skimage import data, color\n",
    "from skimage.transform import rescale, resize, downscale_local_mean"
   ]
  },
  {
   "attachments": {},
   "cell_type": "markdown",
   "metadata": {},
   "source": [
    "# Ideas:\n",
    "    - normalize images shape\n",
    "    - normalize colors\n",
    "    - noise?\n",
    "    - illumination?\n",
    "    - contrast?"
   ]
  },
  {
   "cell_type": "code",
   "execution_count": null,
   "metadata": {},
   "outputs": [],
   "source": [
    "# read images\n",
    "pth = './dataset/'\n",
    "pth2 = './dataset64/'\n",
    "W, H = 64, 64\n",
    "\n",
    "if not os.path.exists(pth2):\n",
    "    os.mkdir(pth2)\n",
    "    os.mkdir(pth2+'flooded')\n",
    "    os.mkdir(pth2+'non-flooded')\n",
    "\n",
    "# flood_imgs = []\n",
    "for fil in tqdm.tqdm(os.listdir(pth + 'flooded/')):\n",
    "    # already done\n",
    "    if os.path.exists(pth2+'flooded/'+fil):\n",
    "        continue\n",
    "    img = io.imread(pth+'flooded/'+fil)\n",
    "    # resize image\n",
    "    img = resize(img, (W, H))\n",
    "    # flood_imgs.append(img)\n",
    "    # convert to uint\n",
    "    img = img.astype(np.uint8)\n",
    "    # save image\n",
    "    io.imsave(pth2+'flooded/'+fil, img)\n",
    "    # io.imshow(img)\n",
    "    # break\n",
    "\n",
    "print('flooded done')\n",
    "# non-flooded:\n",
    "# no_flood_imgs = []\n",
    "for fil in tqdm.tqdm(os.listdir(pth + 'non-flooded/')):\n",
    "    # already done\n",
    "    if os.path.exists(pth2+'non-flooded/'+fil):\n",
    "        continue\n",
    "    img = io.imread(pth+'non-flooded/'+fil)\n",
    "    # io.imshow(img)\n",
    "    # io.show()\n",
    "    # resize image\n",
    "    img = resize(img, (W, H))\n",
    "    # no_flood_imgs.append(img)\n",
    "    # convert to uint\n",
    "    # img = img.astype(np.uint8)\n",
    "    # save image\n",
    "    io.imsave(pth2+'non-flooded/'+fil, img)\n",
    "    # io.imshow(img)\n",
    "    # io.show()\n",
    "    # break\n",
    "\n",
    "# above took more than 56 minutes\n",
    "# below:\n",
    "\n",
    "# flood_imgs = [resize(io.imread(pth+'flooded/'+fil), (W, H)) for fil in os.listdir(pth+'flooded/')]\n",
    "# no_flood_imgs = [resize(io.imread(pth+'non-flooded/'+fil), (W, H)) for fil in os.listdir(pth+'non-flooded/')]"
   ]
  },
  {
   "cell_type": "code",
   "execution_count": null,
   "metadata": {},
   "outputs": [],
   "source": [
    "X = np.concatenate((flood_imgs, no_flood_imgs))\n",
    "Y = np.concatenate((np.ones(len(flood_imgs), np.zeros(len(no_flood_imgs)))))\n",
    "\n",
    "# should be N *64 *64  && N\n",
    "print(X.shape, Y.shape)"
   ]
  },
  {
   "cell_type": "code",
   "execution_count": null,
   "metadata": {},
   "outputs": [],
   "source": []
  }
 ],
 "metadata": {
  "kernelspec": {
   "display_name": "Python 3",
   "language": "python",
   "name": "python3"
  },
  "language_info": {
   "codemirror_mode": {
    "name": "ipython",
    "version": 3
   },
   "file_extension": ".py",
   "mimetype": "text/x-python",
   "name": "python",
   "nbconvert_exporter": "python",
   "pygments_lexer": "ipython3",
   "version": "3.10.3"
  },
  "orig_nbformat": 4
 },
 "nbformat": 4,
 "nbformat_minor": 2
}
