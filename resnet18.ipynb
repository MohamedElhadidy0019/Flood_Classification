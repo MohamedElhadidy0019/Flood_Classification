{
 "cells": [
  {
   "cell_type": "code",
   "execution_count": 1,
   "metadata": {},
   "outputs": [],
   "source": [
    "import os\n",
    "import torch\n",
    "from torchvision import datasets, transforms\n",
    "import torchvision\n",
    "import torchvision.transforms as transforms\n",
    "import torch.utils.data as data"
   ]
  },
  {
   "cell_type": "code",
   "execution_count": 2,
   "metadata": {},
   "outputs": [],
   "source": [
    "\n",
    "data_transforms = transforms.Compose([\n",
    "    transforms.Resize((224, 224)),\n",
    "    transforms.RandomHorizontalFlip(),\n",
    "    transforms.ToTensor(),\n",
    "    transforms.Normalize((0.485, 0.456, 0.406), (0.229, 0.224, 0.225))\n",
    "])\n",
    "\n",
    "path = 'dataset/'\n",
    "dataset = torchvision.datasets.ImageFolder(root=path, transform=data_transforms)\n",
    "\n",
    "# Split the dataset into train and test\n",
    "train_size = int(0.8 * len(dataset) )\n",
    "test_size = len(dataset) - train_size\n",
    "train_dataset, test_dataset = data.random_split(dataset, [train_size, test_size],generator=torch.Generator().manual_seed(42))\n",
    "\n",
    "# Define the dataloaders\n",
    "train_loader = data.DataLoader(train_dataset, batch_size=32, shuffle=True)\n",
    "test_loader = data.DataLoader(test_dataset, batch_size=32, shuffle=True)\n",
    "\n",
    "trainloader=train_loader\n",
    "testloader=test_loader\n"
   ]
  },
  {
   "cell_type": "code",
   "execution_count": 3,
   "metadata": {},
   "outputs": [
    {
     "name": "stdout",
     "output_type": "stream",
     "text": [
      "737\n",
      "185\n"
     ]
    }
   ],
   "source": [
    "# print len of train and test data\n",
    "print(len(train_dataset))\n",
    "print(len(test_dataset))"
   ]
  },
  {
   "cell_type": "code",
   "execution_count": 4,
   "metadata": {},
   "outputs": [],
   "source": [
    "import torch\n",
    "import torch.nn as nn\n",
    "import torch.optim as optim\n",
    "from torchvision import models, transforms\n",
    "from torch.utils.data import DataLoader"
   ]
  },
  {
   "cell_type": "code",
   "execution_count": 6,
   "metadata": {},
   "outputs": [],
   "source": [
    "# Define ResNet model with modified first layer\n",
    "model = models.resnet18(pretrained=True)\n",
    "num_ftrs = model.fc.in_features\n",
    "model.fc = nn.Linear(num_ftrs, 2)\n",
    "# load model weights\n",
    "model.load_state_dict(torch.load('resnet18.pth'))\n",
    "model.cuda()\n",
    "# Define loss function and optimizer\n",
    "criterion = nn.CrossEntropyLoss()\n",
    "optimizer = optim.Adam(model.parameters(), lr=0.001, weight_decay=0.001)"
   ]
  },
  {
   "cell_type": "code",
   "execution_count": 7,
   "metadata": {},
   "outputs": [
    {
     "name": "stdout",
     "output_type": "stream",
     "text": [
      "[Epoch 1, Batch 10] loss: 1.487\n",
      "[Epoch 1, Batch 20] loss: 0.455\n",
      "[Epoch 2, Batch 10] loss: 0.302\n",
      "[Epoch 2, Batch 20] loss: 0.287\n",
      "[Epoch 3, Batch 10] loss: 0.181\n",
      "[Epoch 3, Batch 20] loss: 0.309\n",
      "[Epoch 4, Batch 10] loss: 0.250\n",
      "[Epoch 4, Batch 20] loss: 0.229\n",
      "[Epoch 5, Batch 10] loss: 0.255\n",
      "[Epoch 5, Batch 20] loss: 0.160\n",
      "[Epoch 6, Batch 10] loss: 0.132\n",
      "[Epoch 6, Batch 20] loss: 0.139\n",
      "[Epoch 7, Batch 10] loss: 0.167\n",
      "[Epoch 7, Batch 20] loss: 0.125\n",
      "[Epoch 8, Batch 10] loss: 0.156\n",
      "[Epoch 8, Batch 20] loss: 0.153\n",
      "[Epoch 9, Batch 10] loss: 0.242\n",
      "[Epoch 9, Batch 20] loss: 0.184\n",
      "[Epoch 10, Batch 10] loss: 0.212\n",
      "[Epoch 10, Batch 20] loss: 0.126\n",
      "[Epoch 11, Batch 10] loss: 0.272\n",
      "[Epoch 11, Batch 20] loss: 0.217\n",
      "[Epoch 12, Batch 10] loss: 0.164\n",
      "[Epoch 12, Batch 20] loss: 0.171\n",
      "[Epoch 13, Batch 10] loss: 0.177\n",
      "[Epoch 13, Batch 20] loss: 0.182\n",
      "[Epoch 14, Batch 10] loss: 0.158\n",
      "[Epoch 14, Batch 20] loss: 0.108\n",
      "[Epoch 15, Batch 10] loss: 0.170\n",
      "[Epoch 15, Batch 20] loss: 0.151\n"
     ]
    }
   ],
   "source": [
    "\n",
    "# Train the model\n",
    "num_epochs = 15\n",
    "for epoch in range(num_epochs):\n",
    "    running_loss = 0.0\n",
    "    for i, (inputs, labels) in enumerate(train_loader):\n",
    "        inputs = inputs.cuda()\n",
    "        labels = labels.cuda()\n",
    "        \n",
    "        optimizer.zero_grad()\n",
    "        \n",
    "        outputs = model(inputs)\n",
    "        loss = criterion(outputs, labels)\n",
    "        loss.backward()\n",
    "        optimizer.step()\n",
    "        \n",
    "        running_loss += loss.item()\n",
    "        \n",
    "        if i % 10 == 9:\n",
    "            print('[Epoch %d, Batch %d] loss: %.3f' % (epoch+1, i+1, running_loss / 10))\n",
    "            running_loss = 0.0"
   ]
  },
  {
   "cell_type": "code",
   "execution_count": 8,
   "metadata": {},
   "outputs": [
    {
     "name": "stdout",
     "output_type": "stream",
     "text": [
      "Accuracy: 94.05%\n",
      "F1 Score: 0.94\n"
     ]
    }
   ],
   "source": [
    "import numpy as np\n",
    "from sklearn.metrics import accuracy_score, f1_score\n",
    "y_true = []\n",
    "y_pred = []\n",
    "with torch.no_grad():\n",
    "    for inputs, labels in test_loader:\n",
    "        inputs = inputs.cuda()\n",
    "        labels = labels.cuda()\n",
    "\n",
    "        outputs = model(inputs)\n",
    "        _, predicted = torch.max(outputs.data, 1)\n",
    "\n",
    "        y_true += labels.cpu().numpy().tolist()\n",
    "        y_pred += predicted.cpu().numpy().tolist()\n",
    "\n",
    "# Calculate accuracy and F1 score\n",
    "accuracy = accuracy_score(y_true, y_pred)\n",
    "f1 = f1_score(y_true, y_pred)\n",
    "\n",
    "print('Accuracy: {:.2f}%'.format(accuracy * 100))\n",
    "print('F1 Score: {:.2f}'.format(f1))"
   ]
  },
  {
   "cell_type": "code",
   "execution_count": 24,
   "metadata": {},
   "outputs": [],
   "source": [
    "# save model\n",
    "torch.save(model.state_dict(), 'resnet18.pth')"
   ]
  },
  {
   "cell_type": "code",
   "execution_count": null,
   "metadata": {},
   "outputs": [],
   "source": []
  }
 ],
 "metadata": {
  "kernelspec": {
   "display_name": "base",
   "language": "python",
   "name": "python3"
  },
  "language_info": {
   "codemirror_mode": {
    "name": "ipython",
    "version": 3
   },
   "file_extension": ".py",
   "mimetype": "text/x-python",
   "name": "python",
   "nbconvert_exporter": "python",
   "pygments_lexer": "ipython3",
   "version": "3.9.12"
  },
  "orig_nbformat": 4
 },
 "nbformat": 4,
 "nbformat_minor": 2
}
